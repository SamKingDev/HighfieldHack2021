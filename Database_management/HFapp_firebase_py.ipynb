{
 "cells": [
  {
   "cell_type": "code",
   "execution_count": 129,
   "metadata": {},
   "outputs": [],
   "source": [
    "import numpy as np\n",
    "from random import seed\n",
    "from random import randint"
   ]
  },
  {
   "cell_type": "code",
   "execution_count": 130,
   "metadata": {},
   "outputs": [],
   "source": [
    "import pandas as pd\n",
    "import firebase_admin\n",
    "from firebase_admin import credentials, firestore"
   ]
  },
  {
   "cell_type": "code",
   "execution_count": 131,
   "metadata": {},
   "outputs": [
    {
     "ename": "ValueError",
     "evalue": "The default Firebase app already exists. This means you called initialize_app() more than once without providing an app name as the second argument. In most cases you only need to call initialize_app() once. But if you do want to initialize multiple apps, pass a second argument to initialize_app() to give each app a unique name.",
     "output_type": "error",
     "traceback": [
      "\u001b[0;31m---------------------------------------------------------------------------\u001b[0m",
      "\u001b[0;31mValueError\u001b[0m                                Traceback (most recent call last)",
      "\u001b[0;32m<ipython-input-131-9622c3b7b1b2>\u001b[0m in \u001b[0;36m<module>\u001b[0;34m\u001b[0m\n\u001b[1;32m      3\u001b[0m \u001b[0;34m\u001b[0m\u001b[0m\n\u001b[1;32m      4\u001b[0m \u001b[0mcred\u001b[0m \u001b[0;34m=\u001b[0m \u001b[0mcredentials\u001b[0m\u001b[0;34m.\u001b[0m\u001b[0mCertificate\u001b[0m\u001b[0;34m(\u001b[0m\u001b[0;34m\"famealy-a8a62-firebase-adminsdk-5xa8e-ae2b470cf7.json\"\u001b[0m\u001b[0;34m)\u001b[0m\u001b[0;34m\u001b[0m\u001b[0;34m\u001b[0m\u001b[0m\n\u001b[0;32m----> 5\u001b[0;31m \u001b[0mfirebase_admin\u001b[0m\u001b[0;34m.\u001b[0m\u001b[0minitialize_app\u001b[0m\u001b[0;34m(\u001b[0m\u001b[0mcred\u001b[0m\u001b[0;34m)\u001b[0m\u001b[0;34m\u001b[0m\u001b[0;34m\u001b[0m\u001b[0m\n\u001b[0m",
      "\u001b[0;32m~/opt/anaconda3/lib/python3.8/site-packages/firebase_admin/__init__.py\u001b[0m in \u001b[0;36minitialize_app\u001b[0;34m(credential, options, name)\u001b[0m\n\u001b[1;32m     69\u001b[0m \u001b[0;34m\u001b[0m\u001b[0m\n\u001b[1;32m     70\u001b[0m     \u001b[0;32mif\u001b[0m \u001b[0mname\u001b[0m \u001b[0;34m==\u001b[0m \u001b[0m_DEFAULT_APP_NAME\u001b[0m\u001b[0;34m:\u001b[0m\u001b[0;34m\u001b[0m\u001b[0;34m\u001b[0m\u001b[0m\n\u001b[0;32m---> 71\u001b[0;31m         raise ValueError((\n\u001b[0m\u001b[1;32m     72\u001b[0m             \u001b[0;34m'The default Firebase app already exists. This means you called '\u001b[0m\u001b[0;34m\u001b[0m\u001b[0;34m\u001b[0m\u001b[0m\n\u001b[1;32m     73\u001b[0m             \u001b[0;34m'initialize_app() more than once without providing an app name as '\u001b[0m\u001b[0;34m\u001b[0m\u001b[0;34m\u001b[0m\u001b[0m\n",
      "\u001b[0;31mValueError\u001b[0m: The default Firebase app already exists. This means you called initialize_app() more than once without providing an app name as the second argument. In most cases you only need to call initialize_app() once. But if you do want to initialize multiple apps, pass a second argument to initialize_app() to give each app a unique name."
     ]
    }
   ],
   "source": [
    "import firebase_admin\n",
    "from firebase_admin import credentials\n",
    "\n",
    "cred = credentials.Certificate(\"famealy-a8a62-firebase-adminsdk-5xa8e-ae2b470cf7.json\")\n",
    "firebase_admin.initialize_app(cred)"
   ]
  },
  {
   "cell_type": "code",
   "execution_count": 3,
   "metadata": {},
   "outputs": [],
   "source": [
    "db = firestore.client()"
   ]
  },
  {
   "cell_type": "code",
   "execution_count": 134,
   "metadata": {},
   "outputs": [],
   "source": [
    "fname = \"famealy_survey_data\"\n",
    "try:\n",
    "    fhand = open(fname)\n",
    "except:\n",
    "    print('File cannot be opened:', fname)\n",
    "    exit()\n",
    "\n",
    "raw_list = list()\n",
    "for line in fhand:\n",
    "    raw_list.append(line.split(\"\\t\"))"
   ]
  },
  {
   "cell_type": "code",
   "execution_count": 149,
   "metadata": {},
   "outputs": [],
   "source": [
    "raw_data = list()\n",
    "for lists in raw_list:\n",
    "    i = 1 \n",
    "    while i < len(lists):\n",
    "        temp_dict = dict()\n",
    "        temp_dict['name'] = lists[i]\n",
    "        temp_dict['foods'] = lists[i+1].split(',')\n",
    "        if i == 1:\n",
    "            temp_dict['type'] = 'Breakfast'\n",
    "            raw_data.append(temp_dict)\n",
    "        if i == 3:\n",
    "            temp_dict['type'] = 'Lunch'\n",
    "            raw_data.append(temp_dict)\n",
    "        if i == 5: \n",
    "            temp_dict['type'] = 'Dinner'\n",
    "            raw_data.append(temp_dict)\n",
    "        i += 2"
   ]
  },
  {
   "cell_type": "code",
   "execution_count": 150,
   "metadata": {},
   "outputs": [],
   "source": [
    "final_data = list()\n",
    "for meal in raw_data:\n",
    "    foods = list()\n",
    "    temp = meal\n",
    "    for food in meal['foods']:\n",
    "        food_add = db.collection('foods').document()\n",
    "        food_add.set({\"name\":food.lower(),\"calorie\":randint(5,85)})\n",
    "        foods.append(food_add.id)\n",
    "    temp['foods'] = foods\n",
    "    final_data.append(temp)"
   ]
  },
  {
   "cell_type": "code",
   "execution_count": 151,
   "metadata": {},
   "outputs": [],
   "source": [
    "for data in final_data:\n",
    "    meal_add = db.collection('meals').document()\n",
    "    meal_add.set({'name':data['name'],'type':data['type'],'portion':randint(1,5)})\n",
    "    for food_data in data['foods']:\n",
    "        food_meal_add = db.collection('meals').document(meal_add.id).collection('food').document()\n",
    "        food_meal_add.set({'foodId':food_data,'quantity':randint(1,5)})"
   ]
  },
  {
   "cell_type": "code",
   "execution_count": 174,
   "metadata": {},
   "outputs": [
    {
     "name": "stdout",
     "output_type": "stream",
     "text": [
      "[['rice', '1TTIE2g8aymSIIPwvvSF'], ['lemon', '1Wzh75aUJThzZFXFUlFv'], ['bread', '1ju13ge41fiSFCsfudX2'], ['olive oil', '2otNHad27vcaMf89Fztl'], ['beef', '3ukKQJZRn2CeUAeEzQaj'], ['tomato sauce', '3vkIPXaFGmmuArf48hR7'], ['eggs', '4EoprQWAop8IpglEypcH'], ['milk', '4O7em509FxrVcsbtNA2m'], ['shredded cheese', '5Qntpf4cXcwAs5VXd58J'], ['chilli flakes', '5prMTQzX0UYuKzKrBNlm'], ['chorizo', '70y7HVAkL2vAzy38Nff5'], ['bread', '7PrmpWm9EHJyOWGp6S63'], ['mayonnaise', '8OuM1FoZ8ybWvPYTSpT6'], ['goat cheese', 'AFkBJkkIPFjVOrsLqt2P'], ['dolmio sauce', 'BfIEWZ0NAAg0KKMOWr02'], ['hash browns', 'D2MjAan9pBmGVqKV4sFd'], ['shredded cheese', 'DCb6uE71LtFvrz94F5ma'], ['carrot', 'DtIiw4jUnGZFrZesPtXg'], ['egg', 'EBnX5rovQ7MGiJeGszs7'], ['porridge oats', 'ERdrdyzD7xeYr8z3qLzT'], ['cheese', 'F15YMgMXKQMvnik5m0at'], ['onion', 'FH27cU3qQ8fiQQpRg4LK'], ['bell peppers', 'Fj8opTI5wgs3laXifpVT'], ['walnuts', 'FjN15vBrXMXr3b7A9kW9'], ['ham', 'FjYkH7tDlSZXpT6Nvrpr'], ['taco seasoning', 'H0Mz1Z2M3IGcoRAmCy17'], ['mustard', 'H4IxqchBCJy7lfe6ZlQF'], ['bread', 'JFk8rj7obCo5Is5i8F9m'], ['bacon', 'JM1Hl6AHuaCZhzhh2KpP'], ['cheese', 'Jyb6y8RMIuyUZ6MIenMs'], ['cut lettuce', 'K0R8dJuAQQgjABqjfEcI'], ['tomato and herb pasta sauce', 'LZqTf90nhINAWkmQiNxg'], ['chopped tomatoes', 'MVN13NafvPvtqkGFghh3'], ['butter', 'MWAZYtmurmGHh4yGMjgz'], ['water', 'NQLPNoazFb2FyEWdpm7X'], ['almond butter', 'NVOT3n7EcDWlwJUzZvse'], ['onion', 'O6wvuFe8mqWK0COWOjwO'], ['a piece of bread', 'OgFq6FbW21MmouuSWO8U'], ['cheese', 'QB08iLqLdsgMObIlCNRt'], ['doritos dinamita chili lime', 'QZVXVdewpVvgExBH45zS'], ['spinach wraps', 'RKduVoZ7QWBn4kOpnx9U'], ['Beans', 'RPm4td5me9OZHj8PRY8o'], ['bacon', 'S7ZSM7rB0IGZ4jCnnVOC'], ['eggs', 'SCAOspOG3AGt2sKktaGw'], ['onion', 'Sl0QiIo5nf4sA56nPMy1'], ['cheese', 'TBqwQCTF4jWjPuD10O8f'], ['prawn cocktail crisps', 'UFzPMNYaeR1EsoXTPLrc'], ['pasta', 'UlpvYOEMy3i2enmxQFzu'], ['chicken', 'UuWQWICg6MDF000uRuCf'], ['bread', 'VTZNxDXjOTEygrfcyCWo'], ['chipotle guacamole taco sauce', 'VdOStPVmrPGvLpLg9D3E'], ['tomato', 'W3PALrSCY62ZIsqeMgvt'], ['honey', 'WMH0SwrKTQ9Nnv4k3Jb4'], ['eggs', 'WMy0zf6SUwfShjKe7DX4'], ['salt', 'WNH37AJIu9d03GOl9L1w'], ['chopped tomatoes', 'XVyVQ3k0XQvkrM1t0JHK'], ['tinned tomatoes', 'YwNg1Ssh9gpGgRMqibgu'], ['bread', 'Z6UImUt1bVpAtFrLuGDp'], ['pepper', 'ZEMKFNDOE8FMJzAAXk37'], ['lettuce', 'ZS62Os7Q12xYQ05fPTZF'], ['sour cream', 'aFVt82u2AVK9VNDnc7UG'], ['bagel', 'aNr4GxyjI9qnNa9CXFkK'], ['cream', 'ayRf3sRdibHaA4bpod5S'], ['banana', 'bGuHRsIKb0J6dxUtWyOw'], ['garlic', 'bIs7t644EVDTnTPNfqgD'], ['ham', 'bnK0hqggZbkUtS2XwoI1'], ['sweet chilli sauce', 'cCuXUsABQu8WjQKGTNu3'], ['olive oil', 'd98cGN1Sk1Vl1dEbeFE7'], ['parmesan', 'dXbdbgyP5lFjBbFYzOxs'], ['soy milk', 'eKa27mqercZwU8bYbsGX'], ['rice', 'f5rXFohI8jTM80OeX5IS'], ['lettuce', 'fKv2HrlT8uB0rrbwAwJe'], ['onion', 'gF1XCaGnBqMaRmLBwbTp'], ['green pesto', 'h6ap7xgwglQejpzLkTra'], ['pizza', 'hNWYhcXFvhzrIA6lb9kb'], ['peanut butter', 'ircpObdMzSp8kY6NcDTX'], ['green pesto', 'isUtGuUtPJMqLzAcDKGX'], ['tuna', 'iwJNCgExzoCRfh7qRnqL'], ['cucumber', 'j5FrPaYFYmTd0MLKiVSM'], ['an egg', 'j9P2jMwf7o7uKc6CnQ9Q'], ['chicken stock', 'jDWloOcNFz8XZostIPzA'], ['ravioli', 'jgzmXCR2EflZPtEkAi3b'], ['pineapple', 'lDGwdTGpqJpb3kUt4RhA'], ['beef mince', 'ljwMpUMYZeBSeEZAPzyk'], ['pasta', 'mWh1q5XG9FSVSjvC6rX2'], ['nutella', 'nqpT258fnXJTYom2pXtx'], ['mushrooms', 'odVYISDhcEE0M6VwcPYU'], ['oats', 'okGYspffsrAIfX8R2X9M'], ['butter', 'opLbP6uIAsL43NhvyaeQ'], ['parsley', 'pA4BukvG9UxU1Z8tymft'], ['garlic', 'qKz1cDtq4can7LZtp3My'], ['kiwi', 'r1UGAB3Z9zUTHkoGXLCX'], ['jalapeños', 'rCEQZALzZudjiSO4VePu'], ['salmon', 'sXOtI65z3AmhW8Q71ofG'], ['lettuce', 'scZYTd73LBbWqJbX7Nso'], ['spaghetti', 't0rYhvPZFvN01OtsWuyc'], ['pepper', 'ujnvLKR0Nlaix404BL8B'], ['eggs', 'vfMmSjCaDwD1i2N2YkAe'], ['2 pieces of bread', 'vpzuuW88lTxIaubGz8pX'], ['broccoli', 'w3mGW09ebtIPciJlS1Yr'], ['bacon', 'wCheJ3u6Ka7x17XdNsSL'], ['sweetcorn', 'wiogDk0NIDaFYgVybjC9'], ['potatoes', 'wwDj24unJ8f2kp3IZVSO'], ['butter', 'xFuvBiklfaTZZZbuqCti'], ['1lb venison burger', 'xH4nzWkipUHIlnmfDW1d'], ['bread', 'xKmXYh21HitJqwSDSrCx'], ['coco pops', 'xW4jsUx1eOFT5kHPL9TU'], ['flour', 'xlddKoGgvViYJUKwkT8K'], ['roast beef', 'ycmCpbQwGU7lDYUdY90X'], ['cheese', 'yueRPvkxKBtsNHMLG8ks'], ['whole milk', 'z1cmvNSuZuw3UR75KfyW']]\n"
     ]
    }
   ],
   "source": [
    "###################\n",
    "#Delete Duplicates#\n",
    "###################\n",
    "\n",
    "docs = db.collection('foods').get()\n",
    "doc_list = list()\n",
    "for doc in docs:\n",
    "    addable = doc.to_dict()['name'].strip()\n",
    "    doc_list.append([addable,doc.id])"
   ]
  },
  {
   "cell_type": "code",
   "execution_count": 175,
   "metadata": {},
   "outputs": [
    {
     "name": "stdout",
     "output_type": "stream",
     "text": [
      "[[['rice', '1TTIE2g8aymSIIPwvvSF'], ['rice', 'f5rXFohI8jTM80OeX5IS']], [['bread', '1ju13ge41fiSFCsfudX2'], ['bread', '7PrmpWm9EHJyOWGp6S63'], ['bread', 'JFk8rj7obCo5Is5i8F9m'], ['bread', 'VTZNxDXjOTEygrfcyCWo'], ['bread', 'Z6UImUt1bVpAtFrLuGDp'], ['bread', 'xKmXYh21HitJqwSDSrCx']], [['eggs', '4EoprQWAop8IpglEypcH'], ['eggs', 'SCAOspOG3AGt2sKktaGw'], ['eggs', 'WMy0zf6SUwfShjKe7DX4'], ['eggs', 'vfMmSjCaDwD1i2N2YkAe']], [['shredded cheese', '5Qntpf4cXcwAs5VXd58J'], ['shredded cheese', 'DCb6uE71LtFvrz94F5ma']], [['cheese', 'F15YMgMXKQMvnik5m0at'], ['cheese', 'Jyb6y8RMIuyUZ6MIenMs'], ['cheese', 'QB08iLqLdsgMObIlCNRt'], ['cheese', 'TBqwQCTF4jWjPuD10O8f'], ['cheese', 'yueRPvkxKBtsNHMLG8ks']], [['ham', 'FjYkH7tDlSZXpT6Nvrpr'], ['ham', 'bnK0hqggZbkUtS2XwoI1']], [['chopped tomatoes', 'MVN13NafvPvtqkGFghh3'], ['chopped tomatoes', 'XVyVQ3k0XQvkrM1t0JHK']], [['onion', 'FH27cU3qQ8fiQQpRg4LK'], ['onion', 'O6wvuFe8mqWK0COWOjwO'], ['onion', 'Sl0QiIo5nf4sA56nPMy1'], ['onion', 'gF1XCaGnBqMaRmLBwbTp']], [['bacon', 'JM1Hl6AHuaCZhzhh2KpP'], ['bacon', 'S7ZSM7rB0IGZ4jCnnVOC'], ['bacon', 'wCheJ3u6Ka7x17XdNsSL']], [['pepper', 'ZEMKFNDOE8FMJzAAXk37'], ['pepper', 'ujnvLKR0Nlaix404BL8B']], [['garlic', 'bIs7t644EVDTnTPNfqgD'], ['garlic', 'qKz1cDtq4can7LZtp3My']], [['olive oil', '2otNHad27vcaMf89Fztl'], ['olive oil', 'd98cGN1Sk1Vl1dEbeFE7']], [['lettuce', 'ZS62Os7Q12xYQ05fPTZF'], ['lettuce', 'fKv2HrlT8uB0rrbwAwJe'], ['lettuce', 'scZYTd73LBbWqJbX7Nso']]]\n"
     ]
    }
   ],
   "source": [
    "dup_list = list()\n",
    "for name in doc_list:\n",
    "    i = 0\n",
    "    dup_list_sub = list()\n",
    "    for name_2 in doc_list:\n",
    "        if name[0] == name_2[0]:\n",
    "            dup_list_sub.append(name_2)\n",
    "            doc_list.remove(name_2)\n",
    "    if len(dup_list_sub) > 1:\n",
    "        dup_list.append(dup_list_sub)"
   ]
  },
  {
   "cell_type": "code",
   "execution_count": 165,
   "metadata": {},
   "outputs": [
    {
     "name": "stdout",
     "output_type": "stream",
     "text": [
      "['b', 'c', 'a']\n"
     ]
    }
   ],
   "source": [
    "for lists in dup_list:\n",
    "    i = 1\n",
    "    while i < len(lists):\n",
    "        dp.collection('foods').document(lists[i][1]).delete()\n",
    "        meal_tag = dp.collection('meals').get()\n",
    "        for meal in meal_tag:\n",
    "            dp.collection('meals').document(meal.id).collection('food').where('foodId','==',lists[i][1]).update('foodId':lists[0][1])\n",
    "        "
   ]
  },
  {
   "cell_type": "code",
   "execution_count": null,
   "metadata": {},
   "outputs": [],
   "source": []
  }
 ],
 "metadata": {
  "kernelspec": {
   "display_name": "Python 3",
   "language": "python",
   "name": "python3"
  },
  "language_info": {
   "codemirror_mode": {
    "name": "ipython",
    "version": 3
   },
   "file_extension": ".py",
   "mimetype": "text/x-python",
   "name": "python",
   "nbconvert_exporter": "python",
   "pygments_lexer": "ipython3",
   "version": "3.8.3"
  }
 },
 "nbformat": 4,
 "nbformat_minor": 4
}
